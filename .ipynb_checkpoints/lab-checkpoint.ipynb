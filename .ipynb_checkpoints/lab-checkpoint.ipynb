{
 "cells": [
  {
   "cell_type": "code",
   "execution_count": 14,
   "metadata": {
    "collapsed": false
   },
   "outputs": [
    {
     "data": {
      "text/plain": [
       "url\n",
       "http://arkivet.dn.se/arkivet/                                                                        Axes(0.125,0.2;0.775x0.7)\n",
       "http://asikt.dn.se/                                                                                  Axes(0.125,0.2;0.775x0.7)\n",
       "http://asikt.dn.se/asikt/debatt/behall-och-bygg-ut-karnkraften/                                      Axes(0.125,0.2;0.775x0.7)\n",
       "http://asikt.dn.se/asikt/debatt/lagg-ner-arbetsformedlingen/                                         Axes(0.125,0.2;0.775x0.7)\n",
       "http://asikt.dn.se/asikt/debatt/lagg-ner-arbetsformedlingen/darfor-behover-vi-arbetsformedlingen/    Axes(0.125,0.2;0.775x0.7)\n",
       "http://asikt.dn.se/asikt/debatt/snus-ar-inte-ett-allvarligt-folkhalsoproblem/                        Axes(0.125,0.2;0.775x0.7)\n",
       "http://asikt.dn.se/om-dn-asikt/                                                                      Axes(0.125,0.2;0.775x0.7)\n",
       "http://blogg.dn.se                                                                                   Axes(0.125,0.2;0.775x0.7)\n",
       "http://blogg.dn.se/                                                                                  Axes(0.125,0.2;0.775x0.7)\n",
       "http://blogg.dn.se/bard/                                                                             Axes(0.125,0.2;0.775x0.7)\n",
       "http://blogg.dn.se/epstein/                                                                          Axes(0.125,0.2;0.775x0.7)\n",
       "http://blogg.dn.se/etikettfragan/                                                                    Axes(0.125,0.2;0.775x0.7)\n",
       "http://blogg.dn.se/fragainsidan/                                                                     Axes(0.125,0.2;0.775x0.7)\n",
       "http://blogg.dn.se/framstegsbloggen/                                                                 Axes(0.125,0.2;0.775x0.7)\n",
       "http://blogg.dn.se/osevardheter/                                                                     Axes(0.125,0.2;0.775x0.7)\n",
       "http://blogg.dn.se/viktor/                                                                           Axes(0.125,0.2;0.775x0.7)\n",
       "http://dagens.dn.se                                                                                  Axes(0.125,0.2;0.775x0.7)\n",
       "http://dagens.dn.se/                                                                                 Axes(0.125,0.2;0.775x0.7)\n",
       "http://dnide.dn.se                                                                                   Axes(0.125,0.2;0.775x0.7)\n",
       "http://dnide.dn.se/                                                                                  Axes(0.125,0.2;0.775x0.7)\n",
       "http://fokus.dn.se/                                                                                  Axes(0.125,0.2;0.775x0.7)\n",
       "http://fokus.dn.se/de-osynliga                                                                       Axes(0.125,0.2;0.775x0.7)\n",
       "http://fokus.dn.se/det-ockuperade-landskapet/                                                        Axes(0.125,0.2;0.775x0.7)\n",
       "http://fokus.dn.se/spotify                                                                           Axes(0.125,0.2;0.775x0.7)\n",
       "http://info.dn.se/annonsera/                                                                         Axes(0.125,0.2;0.775x0.7)\n",
       "http://korsord.dn.se/                                                                                Axes(0.125,0.2;0.775x0.7)\n",
       "http://kund.dn.se/                                                                                   Axes(0.125,0.2;0.775x0.7)\n",
       "http://kund.dn.se/annonsera-privat/                                                                  Axes(0.125,0.2;0.775x0.7)\n",
       "http://podcast.dn.se                                                                                 Axes(0.125,0.2;0.775x0.7)\n",
       "http://www.dn.se                                                                                     Axes(0.125,0.2;0.775x0.7)\n",
       "                                                                                                               ...            \n",
       "http://www.dn.se/sthlm/vasbykvinnor-gar-kurs-i-sjalvforsvar/                                         Axes(0.125,0.2;0.775x0.7)\n",
       "http://www.dn.se/stories/almedalen-2015/                                                             Axes(0.125,0.2;0.775x0.7)\n",
       "http://www.dn.se/stories/eurovision-song-contest-2015/                                               Axes(0.125,0.2;0.775x0.7)\n",
       "http://www.dn.se/stories/fotbolls-vm-damer-2015/                                                     Axes(0.125,0.2;0.775x0.7)\n",
       "http://www.dn.se/stories/stories-sport/formel-1/                                                     Axes(0.125,0.2;0.775x0.7)\n",
       "http://www.dn.se/stories/stories-sport/fotboll-allsvenskan-dam/                                      Axes(0.125,0.2;0.775x0.7)\n",
       "http://www.dn.se/stories/stories-sport/fotboll-allsvenskan-herr/                                     Axes(0.125,0.2;0.775x0.7)\n",
       "http://www.dn.se/stories/stories-sport/fotboll-champions-league/                                     Axes(0.125,0.2;0.775x0.7)\n",
       "http://www.dn.se/stories/stories-sport/fotboll-england/                                              Axes(0.125,0.2;0.775x0.7)\n",
       "http://www.dn.se/stories/stories-sport/fotboll-frankrike/                                            Axes(0.125,0.2;0.775x0.7)\n",
       "http://www.dn.se/stories/stories-sport/fotboll-italien/                                              Axes(0.125,0.2;0.775x0.7)\n",
       "http://www.dn.se/stories/stories-sport/fotboll-spanien/                                              Axes(0.125,0.2;0.775x0.7)\n",
       "http://www.dn.se/stories/stories-sport/fotboll-superettan/                                           Axes(0.125,0.2;0.775x0.7)\n",
       "http://www.dn.se/stories/stories-sport/ishockey-allsvenskan/                                         Axes(0.125,0.2;0.775x0.7)\n",
       "http://www.dn.se/stories/stories-sport/ishockey-elitserien/                                          Axes(0.125,0.2;0.775x0.7)\n",
       "http://www.dn.se/toppnyheter/                                                                        Axes(0.125,0.2;0.775x0.7)\n",
       "http://www.dn.se/val/                                                                                Axes(0.125,0.2;0.775x0.7)\n",
       "http://www.dn.se/webb-tv/klipp/                                                                      Axes(0.125,0.2;0.775x0.7)\n",
       "http://www.dn.se/webbspel/ord-pa-ord/                                                                Axes(0.125,0.2;0.775x0.7)\n",
       "http://www.facebook.com/dn.se                                                                        Axes(0.125,0.2;0.775x0.7)\n",
       "https://campaigner.dn.se/prenumerera/dnse/dnbas2/                                                    Axes(0.125,0.2;0.775x0.7)\n",
       "https://campaigner.dn.se/prenumerera/prova/BAN1/                                                     Axes(0.125,0.2;0.775x0.7)\n",
       "https://campaigner.dn.se/prenumerera/prova/webstand/                                                 Axes(0.125,0.2;0.775x0.7)\n",
       "https://dngranskar.dn.se                                                                             Axes(0.125,0.2;0.775x0.7)\n",
       "https://dngranskar.dn.se/                                                                            Axes(0.125,0.2;0.775x0.7)\n",
       "https://kund.dn.se/                                                                                  Axes(0.125,0.2;0.775x0.7)\n",
       "https://kund.dn.se/digital/aktivera/                                                                 Axes(0.125,0.2;0.775x0.7)\n",
       "https://kund.dn.se/helpdesk/faq/                                                                     Axes(0.125,0.2;0.775x0.7)\n",
       "https://kund.dn.se/service/app/                                                                      Axes(0.125,0.2;0.775x0.7)\n",
       "https://prio.dn.se/                                                                                  Axes(0.125,0.2;0.775x0.7)\n",
       "Name: fb_like_count, dtype: object"
      ]
     },
     "execution_count": 14,
     "metadata": {},
     "output_type": "execute_result"
    },
    {
     "data": {
      "image/png": "[encoded data removed]",
      "text/plain": [
       "<matplotlib.figure.Figure at 0x10f05be10>"
      ]
     },
     "metadata": {},
     "output_type": "display_data"
    }
   ],
   "source": [
    "import matplotlib\n",
    "%matplotlib inline\n",
    "import matplotlib.pyplot as plt\n",
    "from matplotlib import cm\n",
    "import pandas as pd\n",
    "import sqlalchemy as sq\n",
    "import numpy as np\n",
    "import datetime\n",
    "\n",
    "engine = sq.create_engine(\"sqlite:///stats.sqlite\")\n",
    "df = pd.read_sql_table(\"stats\", engine)\n",
    "df = df.set_index(pd.DatetimeIndex(df['timestamp']))\n",
    "\n",
    "today = datetime.date.today()\n",
    "from_date = today - datetime.timedelta(weeks=2)\n",
    "df = df[from_date:]\n",
    "#df = df[df['url'] == \"http://www.dn.se/ledare/signerat/peter-wolodarski-hat-kan-snabbt-forgifta-ett-samhallsklimat/\"]\n",
    "\n",
    "df.groupby(['url'])['fb_like_count'].plot(logy=True)"
   ]
  },
  {
   "cell_type": "code",
   "execution_count": null,
   "metadata": {
    "collapsed": true
   },
   "outputs": [],
   "source": []
  }
 ],
 "metadata": {
  "kernelspec": {
   "display_name": "Python 2",
   "language": "python",
   "name": "python2"
  },
  "language_info": {
   "codemirror_mode": {
    "name": "ipython",
    "version": 2
   },
   "file_extension": ".py",
   "mimetype": "text/x-python",
   "name": "python",
   "nbconvert_exporter": "python",
   "pygments_lexer": "ipython2",
   "version": "2.7.10"
  }
 },
 "nbformat": 4,
 "nbformat_minor": 0
}
